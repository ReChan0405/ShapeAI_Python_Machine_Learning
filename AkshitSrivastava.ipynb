{
  "nbformat": 4,
  "nbformat_minor": 0,
  "metadata": {
    "colab": {
      "provenance": [],
      "collapsed_sections": []
    },
    "kernelspec": {
      "name": "python3",
      "display_name": "Python 3"
    },
    "language_info": {
      "name": "python"
    }
  },
  "cells": [
    {
      "cell_type": "code",
      "execution_count": null,
      "metadata": {
        "id": "5dqP3zgcntsC"
      },
      "outputs": [],
      "source": [
        "import numpy as np\n",
        "import pandas as pd\n",
        "import sklearn \n",
        "\n",
        "from sklearn.datasets import load_boston\n",
        "from sklearn.datasets import train_test_split \n",
        "\n",
        "from sklearn.linear_model import LinearRegression\n",
        "from sklearn.metrics import mean_squared_error\n",
        "\n",
        "\n",
        "data = load_boston()\n",
        "data.keys()\n",
        "print(data.data)\n",
        "\n",
        "boston = pd.DataFrame(data.data, columns=data.feature_names)\n",
        "boston.head()\n",
        "\n",
        "boston['MEDV'] = data.target\n",
        "boston.head()\n",
        "\n",
        "boston.isnull().sum()\n",
        "\n",
        "x = boston.drop('MEDV',axis = 1)\n",
        "y = boston['MEDV']\n",
        "x_train , x_test , y_train , y_test = train_test_split(x,y,test_size = 0.15, random_state = 5)\n",
        "print(x_train.shape)\n",
        "print(x_test.shape)\n",
        "print(y_train.shape)\n",
        "print(y_test.shape)\n",
        "\n",
        "\n",
        "lin_model = LinearRegression()\n",
        "lin_model.fit(x_train,y_train)\n",
        "\n",
        "y_train_predict = lin_model.predict(x_train)\n",
        "rmse = (np.sqrt(mean_squared_error(y_train, y_train_predict)))\n",
        "\n",
        "print(\"the model performance for trainings set\")\n",
        "print(\"RMSE is {}\".format(rmse))\n",
        "print(\"\\n\")\n",
        "\n",
        "y_test_predict = lin_model.predict(x_test)\n",
        "rmse = (np.sqrt(mean_squared_error(y_test, y_test_predict)))\n",
        "\n",
        "print(\"the model performance for trainings set\")\n",
        "print(\"RMSE is {}\".format(rmse))\n",
        "\n",
        "\n",
        "\n",
        "\n"
      ]
    }
  ]
}